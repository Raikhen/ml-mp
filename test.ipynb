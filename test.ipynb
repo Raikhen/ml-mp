{
 "cells": [
  {
   "cell_type": "code",
   "execution_count": 64,
   "metadata": {},
   "outputs": [],
   "source": [
    "import re\n",
    "import json\n",
    "import requests\n",
    "import dateparser\n",
    "import pandas as pd\n",
    "from bs4            import BeautifulSoup\n",
    "from pprint         import pprint\n",
    "from IPython.display import Image\n",
    "from IPython.core.display import HTML\n",
    "from IPython import display"
   ]
  },
  {
   "cell_type": "markdown",
   "metadata": {},
   "source": [
    "- no partner?\n",
    "- doing hw6 as practice?"
   ]
  },
  {
   "cell_type": "code",
   "execution_count": 55,
   "metadata": {},
   "outputs": [],
   "source": [
    "def get_id(url):\n",
    "    id = ''\n",
    "\n",
    "    # Regex find ID\n",
    "    match = re.search(r'\\/(area|route)\\/(\\d+)', url)\n",
    "\n",
    "    # Check valid match\n",
    "    if match:\n",
    "        # Extract the ID number from the first capturing group\n",
    "        id = match.group(2)\n",
    "\n",
    "    # Invalid match\n",
    "    else:\n",
    "        raise Exception('Unable to locate route/area ID in url - {url}')\n",
    "    \n",
    "    return id\n",
    "\n",
    "def get_directory():\n",
    "    # Make request to get the route guide page\n",
    "    url     = 'https://www.mountainproject.com/route-guide'\n",
    "    content = requests.get(url).content\n",
    "    soup    = BeautifulSoup(content, features = 'html.parser')\n",
    "    guide   = soup.find(id = 'route-guide')\n",
    "\n",
    "    # Create a dictionary to store the directory\n",
    "    directory = {}\n",
    "\n",
    "    # Get the list of areas\n",
    "    areas = [strong.find('a') for strong in guide.find_all('strong')]\n",
    "\n",
    "    for area in areas:\n",
    "        # Get the area name\n",
    "        name = area.text\n",
    "\n",
    "        # Get the area link\n",
    "        link = area['href']\n",
    "\n",
    "        # Save to directory\n",
    "        directory[name] = link\n",
    "\n",
    "    return directory\n",
    "\n",
    "# Gets an area from MP given its ID\n",
    "def get_area(id):\n",
    "    url     = f'https://www.mountainproject.com/api/v2/areas/{id}'\n",
    "    data = requests.get(url).json()\n",
    "    return data\n",
    "\n",
    "# Gets a list of photos of the first few pics of a route\n",
    "def get_photos(route_id):\n",
    "    url = f'https://www.mountainproject.com/route/{route_id}'\n",
    "    content = requests.get(url).content\n",
    "    soup = BeautifulSoup(content, features = 'html.parser')\n",
    "\n",
    "    photos = soup.find_all('img')\n",
    "    photos = filter(lambda x: 'data-src' in x.attrs, photos)\n",
    "    photos = map(lambda x: { 'url': x['data-src'].replace('smallMed', 'medium'), 'alt': x['alt'] }, photos)\n",
    "\n",
    "    return list(photos)\n",
    "\n",
    "# Gets a route from MP given its ID\n",
    "def get_route(id):\n",
    "    url     = f'https://www.mountainproject.com/api/v2/routes/{id}'\n",
    "    data    = requests.get(url).json()\n",
    "    data['photos'] = get_photos(id)\n",
    "    return data\n",
    "\n",
    "def get_routes_in(area_id, route_list, only_ids = True):\n",
    "    area = get_area(area_id)\n",
    "\n",
    "    for i, child in enumerate(area['children']):\n",
    "        child_id = str(child['id'])\n",
    "\n",
    "        if child['type'] == 'Route':\n",
    "            if only_ids:\n",
    "                route_list.append(child_id)\n",
    "            else:\n",
    "                route = get_route(child_id)\n",
    "                route_list.append(route)\n",
    "        else:\n",
    "            get_routes_in(child_id, route_list, only_ids)\n",
    "\n",
    "# DANGER: this function might take a couple billion years to run\n",
    "def get_all_routes_ids():\n",
    "    directory = get_directory()\n",
    "    del directory['International']\n",
    "\n",
    "    route_list = []\n",
    "\n",
    "    for state in directory:\n",
    "        area_id = get_id(directory[state])\n",
    "        get_routes_in(area_id, route_list)\n",
    "\n",
    "    return route_list"
   ]
  },
  {
   "cell_type": "code",
   "execution_count": 73,
   "metadata": {},
   "outputs": [],
   "source": [
    "# Get all routes in an area\n",
    "area_id = '105874223'\n",
    "waimea_routes = []\n",
    "get_routes_in(area_id, waimea_routes, only_ids = False)"
   ]
  },
  {
   "cell_type": "code",
   "execution_count": 76,
   "metadata": {},
   "outputs": [
    {
     "name": "stdout",
     "output_type": "stream",
     "text": [
      "Ali Babbler, 5.11c\n"
     ]
    },
    {
     "data": {
      "text/html": [
       "<img src=\"https://mountainproject.com/assets/photos/climb/106458209_medium_1494110584.jpg?cache=1701315814\">"
      ],
      "text/plain": [
       "<IPython.core.display.HTML object>"
      ]
     },
     "metadata": {},
     "output_type": "display_data"
    },
    {
     "name": "stdout",
     "output_type": "stream",
     "text": [
      "Little Big Man, 5.11b\n"
     ]
    },
    {
     "data": {
      "text/html": [
       "<img src=\"https://mountainproject.com/assets/photos/climb/106458220_medium_1494110588.jpg?cache=1701315814\">"
      ],
      "text/plain": [
       "<IPython.core.display.HTML object>"
      ]
     },
     "metadata": {},
     "output_type": "display_data"
    },
    {
     "name": "stdout",
     "output_type": "stream",
     "text": [
      "Supersize Me, 5.6\n"
     ]
    },
    {
     "data": {
      "text/html": [
       "<img src=\"https://mountainproject.com/assets/photos/climb/107083876_medium_1494164655.jpg?cache=1701316829\">"
      ],
      "text/plain": [
       "<IPython.core.display.HTML object>"
      ]
     },
     "metadata": {},
     "output_type": "display_data"
    },
    {
     "name": "stdout",
     "output_type": "stream",
     "text": [
      "Working Man, 5.7\n"
     ]
    },
    {
     "data": {
      "text/html": [
       "<img src=\"https://mountainproject.com/assets/photos/climb/111604332_medium_1494296672.jpg?cache=1702071595\">"
      ],
      "text/plain": [
       "<IPython.core.display.HTML object>"
      ]
     },
     "metadata": {},
     "output_type": "display_data"
    },
    {
     "name": "stdout",
     "output_type": "stream",
     "text": [
      "Fat Man, 5.7\n"
     ]
    },
    {
     "data": {
      "text/html": [
       "<img src=\"https://mountainproject.com/assets/photos/climb/114499758_medium_1529419792.jpg?cache=1560770573\">"
      ],
      "text/plain": [
       "<IPython.core.display.HTML object>"
      ]
     },
     "metadata": {},
     "output_type": "display_data"
    },
    {
     "name": "stdout",
     "output_type": "stream",
     "text": [
      "Fear of Abraham, 5.6\n"
     ]
    },
    {
     "data": {
      "text/html": [
       "<img src=\"https://mountainproject.com/assets/photos/climb/108107049_medium_1494263369.jpg?cache=1701318013\">"
      ],
      "text/plain": [
       "<IPython.core.display.HTML object>"
      ]
     },
     "metadata": {},
     "output_type": "display_data"
    },
    {
     "name": "stdout",
     "output_type": "stream",
     "text": [
      "Millenium Falcon, 5.10c\n"
     ]
    },
    {
     "data": {
      "text/html": [
       "<img src=\"https://mountainproject.com/assets/photos/climb/107073008_medium_1494163796.jpg?cache=1701316811\">"
      ],
      "text/plain": [
       "<IPython.core.display.HTML object>"
      ]
     },
     "metadata": {},
     "output_type": "display_data"
    },
    {
     "name": "stdout",
     "output_type": "stream",
     "text": [
      "Gunboat Diplomacy, 5.11b/c\n"
     ]
    },
    {
     "data": {
      "text/html": [
       "<img src=\"https://mountainproject.com/assets/photos/climb/106113428_medium_1558649809.jpg?cache=1701315230\">"
      ],
      "text/plain": [
       "<IPython.core.display.HTML object>"
      ]
     },
     "metadata": {},
     "output_type": "display_data"
    },
    {
     "name": "stdout",
     "output_type": "stream",
     "text": [
      "Shiskebob, 5.11c PG13\n"
     ]
    },
    {
     "data": {
      "text/html": [
       "<img src=\"https://mountainproject.com/assets/photos/climb/123303061_medium_1666497210.jpg?cache=1666531659\">"
      ],
      "text/plain": [
       "<IPython.core.display.HTML object>"
      ]
     },
     "metadata": {},
     "output_type": "display_data"
    },
    {
     "name": "stdout",
     "output_type": "stream",
     "text": [
      "The Skewer, 5.13a\n"
     ]
    },
    {
     "data": {
      "text/html": [
       "<img src=\"https://mountainproject.com/assets/photos/climb/112221579_medium_1494327370.jpg?cache=1702072061\">"
      ],
      "text/plain": [
       "<IPython.core.display.HTML object>"
      ]
     },
     "metadata": {},
     "output_type": "display_data"
    },
    {
     "name": "stdout",
     "output_type": "stream",
     "text": [
      "Beat Junkie, 5.13b\n"
     ]
    },
    {
     "data": {
      "text/html": [
       "<img src=\"https://mountainproject.com/assets/photos/climb/106270327_medium_1494093180.jpg?cache=1701315488\">"
      ],
      "text/plain": [
       "<IPython.core.display.HTML object>"
      ]
     },
     "metadata": {},
     "output_type": "display_data"
    },
    {
     "name": "stdout",
     "output_type": "stream",
     "text": [
      "Space Shuttle, 5.9+\n"
     ]
    },
    {
     "data": {
      "text/html": [
       "<img src=\"https://mountainproject.com/assets/photos/climb/107316731_medium_1494180953.jpg?cache=1701317122\">"
      ],
      "text/plain": [
       "<IPython.core.display.HTML object>"
      ]
     },
     "metadata": {},
     "output_type": "display_data"
    },
    {
     "name": "stdout",
     "output_type": "stream",
     "text": [
      "Rap Echo, 5.12b\n"
     ]
    },
    {
     "data": {
      "text/html": [
       "<img src=\"https://mountainproject.com/assets/photos/climb/107316786_medium_1494180976.jpg?cache=1706873398\">"
      ],
      "text/plain": [
       "<IPython.core.display.HTML object>"
      ]
     },
     "metadata": {},
     "output_type": "display_data"
    },
    {
     "name": "stdout",
     "output_type": "stream",
     "text": [
      "Rocket Fuel, 5.14a\n"
     ]
    },
    {
     "data": {
      "text/html": [
       "<img src=\"https://mountainproject.com/assets/photos/climb/116780054_medium_1556136137.jpg?cache=1556665737\">"
      ],
      "text/plain": [
       "<IPython.core.display.HTML object>"
      ]
     },
     "metadata": {},
     "output_type": "display_data"
    },
    {
     "name": "stdout",
     "output_type": "stream",
     "text": [
      "Rocket Man, 5.13d\n"
     ]
    },
    {
     "data": {
      "text/html": [
       "<img src=\"https://mountainproject.com/assets/photos/climb/109554732_medium_1494353534.jpg?cache=1701318669\">"
      ],
      "text/plain": [
       "<IPython.core.display.HTML object>"
      ]
     },
     "metadata": {},
     "output_type": "display_data"
    },
    {
     "name": "stdout",
     "output_type": "stream",
     "text": [
      "Thin Man, 5.13b\n"
     ]
    },
    {
     "data": {
      "text/html": [
       "<img src=\"https://mountainproject.com/assets/photos/climb/106458208_medium_1494110583.jpg?cache=1701315814\">"
      ],
      "text/plain": [
       "<IPython.core.display.HTML object>"
      ]
     },
     "metadata": {},
     "output_type": "display_data"
    },
    {
     "name": "stdout",
     "output_type": "stream",
     "text": [
      "Via Ferrata, 5.11c\n"
     ]
    },
    {
     "data": {
      "text/html": [
       "<img src=\"https://mountainproject.com/assets/photos/climb/123303111_medium_1666497818_topo.jpg?cache=1666531576\">"
      ],
      "text/plain": [
       "<IPython.core.display.HTML object>"
      ]
     },
     "metadata": {},
     "output_type": "display_data"
    },
    {
     "name": "stdout",
     "output_type": "stream",
     "text": [
      "Steel Curtain, 5.12a\n"
     ]
    },
    {
     "data": {
      "text/html": [
       "<img src=\"https://mountainproject.com/assets/photos/climb/107813785_medium_1494213092.jpg?cache=1701317696\">"
      ],
      "text/plain": [
       "<IPython.core.display.HTML object>"
      ]
     },
     "metadata": {},
     "output_type": "display_data"
    },
    {
     "name": "stdout",
     "output_type": "stream",
     "text": [
      "Peanut Man, 5.12a\n"
     ]
    },
    {
     "data": {
      "text/html": [
       "<img src=\"https://mountainproject.com/assets/photos/climb/117004611_medium_1558480772.jpg?cache=1665758942\">"
      ],
      "text/plain": [
       "<IPython.core.display.HTML object>"
      ]
     },
     "metadata": {},
     "output_type": "display_data"
    },
    {
     "name": "stdout",
     "output_type": "stream",
     "text": [
      "Underdog, 5.10a\n"
     ]
    },
    {
     "data": {
      "text/html": [
       "<img src=\"https://mountainproject.com/assets/photos/climb/105926808_medium_1557950326.jpg?cache=1721442466\">"
      ],
      "text/plain": [
       "<IPython.core.display.HTML object>"
      ]
     },
     "metadata": {},
     "output_type": "display_data"
    },
    {
     "name": "stdout",
     "output_type": "stream",
     "text": [
      "Simon Bar Sinister, 5.12b\n"
     ]
    },
    {
     "data": {
      "text/html": [
       "<img src=\"https://mountainproject.com/assets/photos/climb/112828966_medium_1494317368.jpg?cache=1702072398\">"
      ],
      "text/plain": [
       "<IPython.core.display.HTML object>"
      ]
     },
     "metadata": {},
     "output_type": "display_data"
    },
    {
     "name": "stdout",
     "output_type": "stream",
     "text": [
      "Sweet Polly Purebred, 5.10c\n"
     ]
    },
    {
     "data": {
      "text/html": [
       "<img src=\"https://mountainproject.com/assets/photos/climb/106208780_medium_1494088168.jpg?cache=1701315390\">"
      ],
      "text/plain": [
       "<IPython.core.display.HTML object>"
      ]
     },
     "metadata": {},
     "output_type": "display_data"
    },
    {
     "name": "stdout",
     "output_type": "stream",
     "text": [
      "Know Ethics, 5.11a\n"
     ]
    },
    {
     "data": {
      "text/html": [
       "<img src=\"https://mountainproject.com/assets/photos/climb/106647325_medium_1494128513.jpg?cache=1701316131\">"
      ],
      "text/plain": [
       "<IPython.core.display.HTML object>"
      ]
     },
     "metadata": {},
     "output_type": "display_data"
    },
    {
     "name": "stdout",
     "output_type": "stream",
     "text": [
      "Iron Man, 5.11c\n"
     ]
    },
    {
     "data": {
      "text/html": [
       "<img src=\"https://mountainproject.com/assets/photos/climb/111667684_medium_1494299204.jpg?cache=1702071644\">"
      ],
      "text/plain": [
       "<IPython.core.display.HTML object>"
      ]
     },
     "metadata": {},
     "output_type": "display_data"
    },
    {
     "name": "stdout",
     "output_type": "stream",
     "text": [
      "Goldbug, 5.10d\n"
     ]
    },
    {
     "data": {
      "text/html": [
       "<img src=\"https://mountainproject.com/assets/photos/climb/108529988_medium_1494287717.jpg?cache=1701318327\">"
      ],
      "text/plain": [
       "<IPython.core.display.HTML object>"
      ]
     },
     "metadata": {},
     "output_type": "display_data"
    },
    {
     "name": "stdout",
     "output_type": "stream",
     "text": [
      "Gold Digger, 5.8+\n"
     ]
    },
    {
     "data": {
      "text/html": [
       "<img src=\"https://mountainproject.com/assets/photos/climb/107241006_medium_1494175673.jpg?cache=1701317030\">"
      ],
      "text/plain": [
       "<IPython.core.display.HTML object>"
      ]
     },
     "metadata": {},
     "output_type": "display_data"
    },
    {
     "name": "stdout",
     "output_type": "stream",
     "text": [
      "Rock de Jours, 5.9 X\n"
     ]
    },
    {
     "data": {
      "text/html": [
       "<img src=\"https://mountainproject.com/assets/photos/climb/107088801_medium_1494165089.jpg?cache=1701316838\">"
      ],
      "text/plain": [
       "<IPython.core.display.HTML object>"
      ]
     },
     "metadata": {},
     "output_type": "display_data"
    },
    {
     "name": "stdout",
     "output_type": "stream",
     "text": [
      "Rock Du Jours Direct, 5.9+\n"
     ]
    },
    {
     "data": {
      "text/html": [
       "<img src=\"https://mountainproject.com/assets/photos/climb/107815394_medium_1494213229.jpg?cache=1701317698\">"
      ],
      "text/plain": [
       "<IPython.core.display.HTML object>"
      ]
     },
     "metadata": {},
     "output_type": "display_data"
    },
    {
     "name": "stdout",
     "output_type": "stream",
     "text": [
      "Going Nuts, 5.13b\n"
     ]
    },
    {
     "data": {
      "text/html": [
       "<img src=\"https://mountainproject.com/assets/photos/climb/107815396_medium_1494213230.jpg?cache=1718847122\">"
      ],
      "text/plain": [
       "<IPython.core.display.HTML object>"
      ]
     },
     "metadata": {},
     "output_type": "display_data"
    }
   ],
   "source": [
    "for route in waimea_routes:\n",
    "  if len(route['photos']) > 0:\n",
    "    print(f'{route['title']}, {route['difficulty']}')\n",
    "\n",
    "    # Display the first photo\n",
    "    display.display(HTML(f'<img src=\"{route[\"photos\"][0][\"url\"]}\">'))\n",
    "    # Image(url = route['photos'][0]['url'])"
   ]
  }
 ],
 "metadata": {
  "kernelspec": {
   "display_name": "Python 3",
   "language": "python",
   "name": "python3"
  },
  "language_info": {
   "codemirror_mode": {
    "name": "ipython",
    "version": 3
   },
   "file_extension": ".py",
   "mimetype": "text/x-python",
   "name": "python",
   "nbconvert_exporter": "python",
   "pygments_lexer": "ipython3",
   "version": "3.12.4"
  }
 },
 "nbformat": 4,
 "nbformat_minor": 2
}
